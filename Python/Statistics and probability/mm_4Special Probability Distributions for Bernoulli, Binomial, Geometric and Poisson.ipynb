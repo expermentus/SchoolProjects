{
 "cells": [
  {
   "attachments": {},
   "cell_type": "markdown",
   "metadata": {
    "pycharm": {
     "name": "#%% md\n"
    }
   },
   "source": [
    "Special probability distribution\n",
    "\n",
    "    - Discrete distributions\n",
    "        Bernoulli, binomial, geometric and Poisson\n",
    "\n",
    "The following means:  \n",
    "E[X]: Expected value  \n",
    "Var(): The variance"
   ]
  },
  {
   "attachments": {},
   "cell_type": "markdown",
   "metadata": {
    "pycharm": {
     "name": "#%% md\n"
    }
   },
   "source": [
    "The mean value is sometimes called the first moment of X.\n",
    "The n'th moment of X is defined by:\n",
    "The expected value of X to the power of n using the probability mass function (PMF):\n",
    "$$E[X^n] = \\sum_i x_i^n \\cdot p(x_i)$$\n",
    "The expected value of X to the power of n using the probability density function (PDF):\n",
    "$$E[X^n] = \\int_{-\\infty}^{\\infty} x^n \\cdot f(x) \\, dx$$"
   ]
  },
  {
   "attachments": {},
   "cell_type": "markdown",
   "metadata": {
    "pycharm": {
     "name": "#%% md\n"
    }
   },
   "source": [
    "**Bernoulli r.v.**\n",
    "An experiment with 2 possible outcomes (success or failure) is called a Bernoulli trial.\n",
    "The indicator of event A is called the Bernoulli r.v. since it describes outcome of a Bernoulli trial.\n",
    "$$E[I]=p$$\n",
    "$$Var(I)=p(1-p)$$\n",
    "\n",
    "Every Bernoulli trial, regardless of the definition of A, is equivalent to the tossing of a biased coin. \n",
    "\n",
    "Example: a r.v. I is an indicator of the event A\n",
    "The expected value of the indicator of an event is equal to the probability event:\n",
    "$$I = \\begin{cases} 1 & \\text{if A occurs} \\\\ 0 & \\text{if A does not occur} \\end{cases}$$\n",
    "\n",
    "$$E[I]=1*P(A)+0*P(A^c)=P(A)$$\n",
    "\n",
    "$$Var(I) = E[I^2]-E[I]^2 = E[I]-E[I]^2 = E[I]*(1-E[I])=P(A)P(A^c)$$\n"
   ]
  },
  {
   "cell_type": "code",
   "execution_count": 1,
   "metadata": {
    "ExecuteTime": {
     "end_time": "2023-06-03T09:59:26.989614700Z",
     "start_time": "2023-06-03T09:59:26.948879400Z"
    },
    "pycharm": {
     "name": "#%%\n"
    }
   },
   "outputs": [
    {
     "name": "stdout",
     "output_type": "stream",
     "text": [
      "Expected Value: 0.6\n",
      "Variance: 0.24\n"
     ]
    }
   ],
   "source": [
    "def bernoulli_expected_value(p):\n",
    "    # Calculate the expected value of a Bernoulli random variable\n",
    "    return p\n",
    "\n",
    "def bernoulli_variance(p):\n",
    "    # Calculate the variance of a Bernoulli random variable\n",
    "    return p * (1 - p)\n",
    "\n",
    "# Example usage\n",
    "p = 0.6  # Probability of success (event A)\n",
    "\n",
    "expected_value = bernoulli_expected_value(p)\n",
    "variance = bernoulli_variance(p)\n",
    "\n",
    "print(\"Expected Value:\", expected_value)\n",
    "print(\"Variance:\", variance)"
   ]
  },
  {
   "attachments": {},
   "cell_type": "markdown",
   "metadata": {
    "pycharm": {
     "name": "#%% md\n"
    }
   },
   "source": [
    "**Binomial r.v.**  \n",
    "    - Let X be a r.v. representing the number of times a certain event A occurs in n trials (number of success in n trials). Denote p probability of success. \n",
    "    - Then X is said to be a binomial r.v. with parameters n and p\n",
    "\n",
    "$$X \\sim \\text{Binomial}(n, p)$$\n",
    "\n",
    "Pmf:\n",
    "$$P(X = i) = \\binom{n}{i} p^i (1 - p)^{n-i}, \\quad i = 0, 1, \\ldots, n$$\n",
    "\n",
    "$$E[X]=np$$ \n",
    "$$Var(X)=np(1-p)$$\n"
   ]
  },
  {
   "cell_type": "code",
   "execution_count": 4,
   "metadata": {
    "pycharm": {
     "name": "#%%\n"
    }
   },
   "outputs": [
    {
     "name": "stdout",
     "output_type": "stream",
     "text": [
      "P(X = 3) = 0.2668\n",
      "E[X] = 3.0000\n",
      "Var(X) = 2.1000\n"
     ]
    }
   ],
   "source": [
    "import math\n",
    "\n",
    "def binomial_pmf(n, p, i):\n",
    "    numerator = math.comb(n, i) * (p ** i) * ((1 - p) ** (n - i))\n",
    "    return numerator\n",
    "\n",
    "def binomial_expected_value(n, p):\n",
    "    expected_value = n * p\n",
    "    return expected_value\n",
    "\n",
    "def binomial_variance(n, p):\n",
    "    variance = n * p * (1 - p)\n",
    "    return variance\n",
    "\n",
    "# Example usage\n",
    "n = 10   # Number of trials\n",
    "p = 0.3  # Probability of success\n",
    "i = 3    # Number of successes\n",
    "\n",
    "# Calculate the pmf\n",
    "pmf = binomial_pmf(n, p, i)\n",
    "print(f\"P(X = {i}) = {pmf:.4f}\")\n",
    "\n",
    "# Calculate the expected value\n",
    "expected_value = binomial_expected_value(n, p)\n",
    "print(f\"E[X] = {expected_value:.4f}\")\n",
    "\n",
    "# Calculate the variance\n",
    "variance = binomial_variance(n, p)\n",
    "print(f\"Var(X) = {variance:.4f}\")\n"
   ]
  },
  {
   "attachments": {},
   "cell_type": "markdown",
   "metadata": {
    "pycharm": {
     "name": "#%% md\n"
    }
   },
   "source": [
    "**Computing the binomial distribution function**  \n",
    "To optimize the computational process, we can utilize the following relationship between P{X=k+1} and P{X=k}:\n",
    "\n",
    "$$P(X = k+1) = \\frac{p}{1-p} \\cdot \\frac{n-k}{k+1} \\cdot P(X = k)$$\n",
    "Now starting from P(X=0) we can recursively find all other P(X=k)"
   ]
  },
  {
   "cell_type": "code",
   "execution_count": 5,
   "metadata": {
    "pycharm": {
     "name": "#%%\n"
    }
   },
   "outputs": [
    {
     "name": "stdout",
     "output_type": "stream",
     "text": [
      "P(X = 0) = 0.0282\n",
      "P(X = 1) = 0.1211\n",
      "P(X = 2) = 0.2335\n",
      "P(X = 3) = 0.2668\n",
      "P(X = 4) = 0.2001\n",
      "P(X = 5) = 0.1029\n"
     ]
    }
   ],
   "source": [
    "#General\n",
    "def binomial_pmf(n, p, k):\n",
    "    pmf = [0] * (k + 1)  # Initialize an array to store the pmf values\n",
    "    pmf[0] = (1 - p)**n  # P(X = 0)\n",
    "\n",
    "    for i in range(k):\n",
    "        pmf[i + 1] = (p / (1 - p)) * ((n - i) / (i + 1)) * pmf[i]\n",
    "\n",
    "    return pmf\n",
    "\n",
    "# Example usage\n",
    "n = 10   # Number of trials\n",
    "p = 0.3  # Probability of success\n",
    "k = 5    # Number of successes\n",
    "\n",
    "# Calculate the binomial distribution function\n",
    "pmf = binomial_pmf(n, p, k)\n",
    "\n",
    "# Print the pmf values\n",
    "for i, probability in enumerate(pmf):\n",
    "    print(f\"P(X = {i}) = {probability:.4f}\")\n"
   ]
  },
  {
   "cell_type": "code",
   "execution_count": 2,
   "metadata": {
    "pycharm": {
     "name": "#%%\n"
    }
   },
   "outputs": [
    {
     "name": "stdout",
     "output_type": "stream",
     "text": [
      "For p = 0.1, the 3-component system is more likely to operate.\n",
      "For p = 0.2, the 3-component system is more likely to operate.\n",
      "For p = 0.3, the 3-component system is more likely to operate.\n",
      "For p = 0.4, the 3-component system is more likely to operate.\n",
      "For p = 0.5, the 3-component system is more likely to operate.\n",
      "For p = 0.6, the 5-component system is more likely to operate.\n",
      "For p = 0.7, the 5-component system is more likely to operate.\n",
      "For p = 0.8, the 5-component system is more likely to operate.\n",
      "For p = 0.9, the 5-component system is more likely to operate.\n"
     ]
    }
   ],
   "source": [
    "#A system consists of n components. Each component functions independently with probability p. \n",
    "#Question: for which values of p is a 5-component system more likely to operate than a 3-component system? \n",
    "import math\n",
    "\n",
    "def system_3_component(p):\n",
    "    # Calculate the probability of a 3-component system operating\n",
    "    q = 1 - p\n",
    "    probability = math.comb(3, 2) * (p ** 2) * (q ** 1) + (p ** 3)\n",
    "    return probability\n",
    "\n",
    "\n",
    "def system_5_component(p):\n",
    "    # Calculate the probability of a 5-component system operating\n",
    "    q = 1 - p\n",
    "    probability = math.comb(5, 3) * (p ** 3) * (q ** 2) + math.comb(5, 4) * (p ** 4) * (q ** 1) + (p ** 5)\n",
    "    return probability\n",
    "\n",
    "# Iterate over different values of p\n",
    "for p in [0.1, 0.2, 0.3, 0.4, 0.5, 0.6, 0.7, 0.8, 0.9]:\n",
    "    probability_3_component = system_3_component(p)\n",
    "    probability_5_component = system_5_component(p)\n",
    "    \n",
    "    # Compare the probabilities and print the result\n",
    "    if probability_5_component > probability_3_component:\n",
    "        print(f\"For p = {p}, the 5-component system is more likely to operate.\")\n",
    "    else:\n",
    "        print(f\"For p = {p}, the 3-component system is more likely to operate.\")\n"
   ]
  },
  {
   "attachments": {},
   "cell_type": "markdown",
   "metadata": {
    "pycharm": {
     "name": "#%% md\n"
    }
   },
   "source": [
    "**The geometric r.v.**  \n",
    "Let a r.v. M be a number of independent Bernoulli trials until the first occurence of a success. M is called a geometric r.v. \n",
    "Pmf:\n",
    "$$P{M=k}=(1-p)^{k-1}p$$\n",
    "\n",
    "$$E[M]=\\frac{1}{p}$$\n",
    "$$Var(M)=\\frac{1-p}{p^2}$$\n",
    "Example: applications where we are interested in the time that elapses between the occurence of events in a sequence of independent experiments\n",
    "\n"
   ]
  },
  {
   "cell_type": "code",
   "execution_count": 3,
   "metadata": {
    "pycharm": {
     "name": "#%%\n"
    }
   },
   "outputs": [
    {
     "name": "stdout",
     "output_type": "stream",
     "text": [
      "P(M = 5) = 0.0720\n",
      "E[M] = 3.3333\n",
      "Var(M) = 7.7778\n"
     ]
    }
   ],
   "source": [
    "def geometric_pmf(p, k):\n",
    "    probability = (1 - p)**(k - 1) * p\n",
    "    return probability\n",
    "\n",
    "def geometric_expected_value(p):\n",
    "    expected_value = 1 / p\n",
    "    return expected_value\n",
    "\n",
    "def geometric_variance(p):\n",
    "    variance = (1 - p) / (p**2)\n",
    "    return variance\n",
    "\n",
    "# Example usage\n",
    "p = 0.3  # Probability of success\n",
    "k = 5    # Number of trials until the first success\n",
    "\n",
    "# Calculate the pmf\n",
    "pmf = geometric_pmf(p, k)\n",
    "print(f\"P(M = {k}) = {pmf:.4f}\")\n",
    "\n",
    "# Calculate the expected value\n",
    "expected_value = geometric_expected_value(p)\n",
    "print(f\"E[M] = {expected_value:.4f}\")\n",
    "\n",
    "# Calculate the variance\n",
    "variance = geometric_variance(p)\n",
    "print(f\"Var(M) = {variance:.4f}\")\n"
   ]
  },
  {
   "attachments": {},
   "cell_type": "markdown",
   "metadata": {
    "pycharm": {
     "name": "#%% md\n"
    }
   },
   "source": [
    "**The Hypergeometric r.v.**  \n",
    "Suppose we have objects of two types: type 1 N objects (acceptable components) and type 2 M objects (defective components). A sample of n objects is randomly chosen without replacement. \n",
    "A r.v. X represents a number of type 1 objects in the selection  hypergeometric with parameters (N, M, n)\n",
    "Pmf:\n",
    "$$P(X = i) = \\frac{{\\binom{N}{i} \\binom{M}{n-i}}}{{\\binom{N+M}{n}}}$$\n",
    "$$E[X]=\\frac{nN}{N+M}$$\n",
    "$$Var(X)=np(1-p)[1-\\frac{n-1}{N+M-1}]$$\n",
    "\n"
   ]
  },
  {
   "cell_type": "code",
   "execution_count": 2,
   "metadata": {
    "pycharm": {
     "name": "#%%\n"
    }
   },
   "outputs": [
    {
     "name": "stdout",
     "output_type": "stream",
     "text": [
      "P(X = 2) = 0.3600\n",
      "E[X] = 1.6667\n",
      "Var(X) = 0.9579\n"
     ]
    }
   ],
   "source": [
    "import math\n",
    "\n",
    "def hypergeometric_pmf(N, M, n, i):\n",
    "    numerator = math.comb(N, i) * math.comb(M, n - i)\n",
    "    denominator = math.comb(N + M, n)\n",
    "    probability = numerator / denominator\n",
    "    return probability\n",
    "\n",
    "def hypergeometric_expected_value(N, M, n):\n",
    "    expected_value = (n * N) / (N + M)\n",
    "    return expected_value\n",
    "\n",
    "def hypergeometric_variance(N, M, n):\n",
    "    p = N / (N + M)\n",
    "    variance = n * p * (1 - p) * ((N + M - n) / (N + M - 1))\n",
    "    return variance\n",
    "\n",
    "# Example usage\n",
    "N = 10  # Number of type 1 objects\n",
    "M = 20  # Number of type 2 objects\n",
    "n = 5   # Number of objects chosen\n",
    "i = 2   # Number of type 1 objects in the selection\n",
    "\n",
    "# Calculate the pmf\n",
    "pmf = hypergeometric_pmf(N, M, n, i)\n",
    "print(f\"P(X = {i}) = {pmf:.4f}\")\n",
    "\n",
    "# Calculate the expected value\n",
    "expected_value = hypergeometric_expected_value(N, M, n)\n",
    "print(f\"E[X] = {expected_value:.4f}\")\n",
    "\n",
    "# Calculate the variance\n",
    "variance = hypergeometric_variance(N, M, n)\n",
    "print(f\"Var(X) = {variance:.4f}\")"
   ]
  },
  {
   "attachments": {},
   "cell_type": "markdown",
   "metadata": {
    "pycharm": {
     "name": "#%% md\n"
    }
   },
   "source": [
    "**Poisson r.v.**  \n",
    "A r.v. taking on one of values 0, 1, 2, … is said to be a Poisson r.v. with parameter λ(λ>0), if pmf is given by:\n",
    "$$P(X=i)=e^λ *\\frac{λ^i}{i!}$$\n",
    "Moment generating function:\n",
    "$$E[e^{tX}] = e^{λ(e^t - 1)}$$\n",
    "$$E[X]=λ$$\n",
    "$$Var(X)=λ$$\n",
    "\n",
    "Events that can be moddelled by Poisson distribution:  \n",
    "Number of typos (misprints) on a page of a book\n",
    "Number of phone calls at a call center per minute\n",
    "Number of times a web server is accessed per minute\n",
    "Number of pine trees per unit area in a mized forest\n",
    "Number of stars in a given volume of space  \n",
    "  \n",
    "One of the applications of the Poisson probabilities is to approximate the binomial probabilities – when n is large and p is small. \n",
    "$$λ =np$$\n",
    "\n"
   ]
  },
  {
   "cell_type": "code",
   "execution_count": 7,
   "metadata": {
    "pycharm": {
     "name": "#%%\n"
    }
   },
   "outputs": [
    {
     "name": "stdout",
     "output_type": "stream",
     "text": [
      "P(X = 5) = 0.0031\n",
      "E[e^(0.05X)] = 1.0526\n",
      "E[X] = 1.0000\n",
      "Var(X) = 1.0000\n"
     ]
    }
   ],
   "source": [
    "#General\n",
    "import math\n",
    "\n",
    "def poisson_pmf(lmbda, i):\n",
    "    numerator = math.exp(-lmbda) * (lmbda ** i)\n",
    "    denominator = math.factorial(i)\n",
    "    pmf = numerator / denominator\n",
    "    return pmf\n",
    "\n",
    "def poisson_moment_generating_function(lmbda, t):\n",
    "    mgf = math.exp(lmbda * (math.exp(t) - 1))\n",
    "    return mgf\n",
    "\n",
    "def poisson_expected_value(lmbda):\n",
    "    expected_value = lmbda\n",
    "    return expected_value\n",
    "\n",
    "def poisson_variance(lmbda):\n",
    "    variance = lmbda\n",
    "    return variance\n",
    "\n",
    "# Example usage\n",
    "lmbda =  1000 * 10**-3  # Mean of the Poisson distribution (λ = np)\n",
    "i = 5      # Value of X\n",
    "t = 0.05    # Value of t\n",
    "\n",
    "# Calculate the pmf\n",
    "pmf = poisson_pmf(lmbda, i)\n",
    "print(f\"P(X = {i}) = {pmf:.4f}\")\n",
    "\n",
    "# Calculate the moment generating function\n",
    "mgf = poisson_moment_generating_function(lmbda, t)\n",
    "print(f\"E[e^({t}X)] = {mgf:.4f}\")\n",
    "\n",
    "# Calculate the expected value\n",
    "expected_value = poisson_expected_value(lmbda)\n",
    "print(f\"E[X] = {expected_value:.4f}\")\n",
    "\n",
    "# Calculate the variance\n",
    "variance = poisson_variance(lmbda)\n",
    "print(f\"Var(X) = {variance:.4f}\")\n"
   ]
  },
  {
   "cell_type": "code",
   "execution_count": 1,
   "metadata": {
    "pycharm": {
     "name": "#%%\n"
    }
   },
   "outputs": [
    {
     "name": "stdout",
     "output_type": "stream",
     "text": [
      "The probability of having five or more errors in a block of 1000 bits is: 0.0037\n"
     ]
    }
   ],
   "source": [
    "#The BER of a communication channel is 10^-3. What is a probability that a block of 1000 bits has five or more errors?  \n",
    "# using the poisson r.v. in python\n",
    "from scipy.stats import poisson\n",
    "\n",
    "lambda_val = 1000 * 10**-3  # Mean of the Poisson distribution (λ = np)\n",
    "\n",
    "# Calculate the probability using the survival function (1 - cumulative distribution function)\n",
    "probability = 1 - poisson.cdf(4, lambda_val)  # P(X >= 5) = 1 - P(X <= 4)\n",
    "\n",
    "print(f\"The probability of having five or more errors in a block of 1000 bits is: {probability:.4f}\")\n"
   ]
  },
  {
   "cell_type": "code",
   "execution_count": null,
   "outputs": [],
   "source": [
    "import scipy.stats as stats\n",
    "\n",
    "# Parameters\n",
    "mean = 10\n",
    "rate = 1 / mean\n",
    "\n",
    "# Time already elapsed\n",
    "time_elapsed = 10\n",
    "\n",
    "# Calculate the probability using the survival function (1 - cumulative distribution function)\n",
    "probability = 1 - stats.expon.cdf(time_elapsed, scale=1/rate)\n",
    "\n",
    "# Print the result\n",
    "print(\"Probability:\", probability)"
   ],
   "metadata": {
    "collapsed": false,
    "pycharm": {
     "name": "#%%\n"
    }
   }
  },
  {
   "cell_type": "code",
   "execution_count": 1,
   "metadata": {
    "pycharm": {
     "name": "#%%\n"
    }
   },
   "outputs": [
    {
     "name": "stdout",
     "output_type": "stream",
     "text": [
      "Probability: 0.36787944117144233\n"
     ]
    }
   ],
   "source": [
    "import scipy.stats as stats\n",
    "\n",
    "# Parameters\n",
    "mean = 10\n",
    "rate = 1 / mean\n",
    "\n",
    "# Time already elapsed\n",
    "time_elapsed = 10\n",
    "\n",
    "# Calculate the probability using the survival function (1 - cumulative distribution function)\n",
    "probability = 1 - stats.expon.cdf(time_elapsed, scale=1/rate)\n",
    "\n",
    "# Print the result\n",
    "print(\"Probability:\", probability)"
   ]
  }
 ],
 "metadata": {
  "kernelspec": {
   "display_name": "Python 3",
   "language": "python",
   "name": "python3"
  },
  "language_info": {
   "codemirror_mode": {
    "name": "ipython",
    "version": 3
   },
   "file_extension": ".py",
   "mimetype": "text/x-python",
   "name": "python",
   "nbconvert_exporter": "python",
   "pygments_lexer": "ipython3",
   "version": "3.11.1"
  }
 },
 "nbformat": 4,
 "nbformat_minor": 0
}