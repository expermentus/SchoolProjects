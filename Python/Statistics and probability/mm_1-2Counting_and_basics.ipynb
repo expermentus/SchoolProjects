{
 "cells": [
  {
   "cell_type": "markdown",
   "source": [
    "when all events are equally likely to happen:\n",
    "$\\newline$\n",
    "$P(A)=\\frac{|A|}{|S|}$\n",
    "\n"
   ],
   "metadata": {
    "collapsed": false,
    "pycharm": {
     "name": "#%% md\n"
    }
   }
  },
  {
   "cell_type": "code",
   "execution_count": 2,
   "metadata": {
    "pycharm": {
     "name": "#%%\n"
    }
   },
   "outputs": [
    {
     "name": "stdout",
     "output_type": "stream",
     "text": [
      "0.3333333333333333\n"
     ]
    }
   ],
   "source": [
    "A = [1,2] # success events\n",
    "S = [1,2,3,4,5,6] # Sample space\n",
    "propA = len(A)/len(S)\n",
    "print(propA)\n"
   ]
  },
  {
   "attachments": {},
   "cell_type": "markdown",
   "metadata": {
    "pycharm": {
     "name": "#%% md\n"
    }
   },
   "source": [
    "For any event E, the probability P(E) is non-negative:\n",
    "$$ P(E) \\geq 0 $$\n",
    "\n",
    "For any two disjoint events E and F, the probability of their union is the sum of their individual probabilities:\n",
    "$$ P(E \\cup F) = P(E) + P(F) $$\n"
   ]
  },
  {
   "attachments": {},
   "cell_type": "markdown",
   "metadata": {
    "pycharm": {
     "name": "#%% md\n"
    }
   },
   "source": [
    "Sampling with or without replacement:\n",
    "$Possibilities = n^k$"
   ]
  },
  {
   "cell_type": "code",
   "execution_count": null,
   "metadata": {
    "pycharm": {
     "name": "#%%\n"
    }
   },
   "outputs": [],
   "source": [
    "# we want to draw k samples from n values\n",
    "n = 6 \n",
    "k = 6 \n",
    "Possibilities = n ** k\n",
    "print(Possibilities)"
   ]
  },
  {
   "attachments": {},
   "cell_type": "markdown",
   "metadata": {
    "pycharm": {
     "name": "#%% md\n"
    }
   },
   "source": [
    "Sampling without Replacement and with Ordering: \n",
    "$$Possibilities = \\frac{n!}{(n - k)!}$$"
   ]
  },
  {
   "cell_type": "code",
   "execution_count": null,
   "metadata": {
    "pycharm": {
     "name": "#%%\n"
    }
   },
   "outputs": [],
   "source": [
    "import math\n",
    "# we want to draw k samples from n values\n",
    "n = 6 \n",
    "k = 6 \n",
    "Possibilities = math.factorial(n) / math.factorial(n - k)\n",
    "print(Possibilities)"
   ]
  },
  {
   "attachments": {},
   "cell_type": "markdown",
   "metadata": {
    "pycharm": {
     "name": "#%% md\n"
    }
   },
   "source": [
    "Sampling without Replacement and without Ordering:\n",
    "$$Possibilities = (n choose k) = \\frac{n!}{(n-k)!*k!}$$"
   ]
  },
  {
   "cell_type": "code",
   "execution_count": null,
   "metadata": {
    "pycharm": {
     "name": "#%%\n"
    }
   },
   "outputs": [],
   "source": [
    "import math\n",
    "# we want to draw k samples from n values\n",
    "n = 6 \n",
    "k = 6 \n",
    "Possibilities = math.factorial(n) / math.factorial(k) * (math.factorial(n - k))\n",
    "print(Possibilities)"
   ]
  },
  {
   "attachments": {},
   "cell_type": "markdown",
   "metadata": {
    "pycharm": {
     "name": "#%% md\n"
    }
   },
   "source": [
    "Sampling with replacement and without ordering:\n",
    "$$Possibilities = \\frac{(n + k - 1)!}{k! * (n - 1)!}$$\n"
   ]
  },
  {
   "cell_type": "code",
   "execution_count": null,
   "metadata": {
    "pycharm": {
     "name": "#%%\n"
    }
   },
   "outputs": [],
   "source": [
    "import math\n",
    "# we want to draw k samples from n values\n",
    "n = 6 \n",
    "k = 6 \n",
    "Possibilities = math.factorial(n + k - 1) / (math.factorial(k) * (math.factorial(n - 1)))\n",
    "print(Possibilities)"
   ]
  },
  {
   "attachments": {},
   "cell_type": "markdown",
   "metadata": {
    "pycharm": {
     "name": "#%% md\n"
    }
   },
   "source": [
    "Bayes formula:\n",
    "\n",
    "$$P(A | B) = \\frac{P(B | A) \\cdot P(A)}{P(B)}$$\n"
   ]
  },
  {
   "cell_type": "code",
   "execution_count": 2,
   "metadata": {
    "pycharm": {
     "name": "#%%\n"
    }
   },
   "outputs": [
    {
     "name": "stdout",
     "output_type": "stream",
     "text": [
      "Probability of A sent given A is received: 0.5333333333333335\n",
      "Probability of B sent given A is received: 0.46666666666666645\n",
      "\n",
      "\n",
      "Probability of B sent given B is received: 0.19175257731958764\n",
      "Probability of A sent given B is received: 0.8082474226804124\n",
      "Probability that A is received: 0.030000000000000016\n",
      "Probability that B is received: 0.97\n"
     ]
    }
   ],
   "source": [
    "def bayes_formula(prob_a_sent, prob_b_sent, prob_a_sent_fail, prob_b_sent_fail):\n",
    "    # Calculate the probability of A given evidence\n",
    "    prob_a_given_received = (prob_a_sent * (1 - prob_a_sent_fail)) / (\n",
    "                (prob_a_sent * (1 - prob_a_sent_fail)) + (prob_b_sent * prob_b_sent_fail))\n",
    "    return prob_a_given_received\n",
    "\n",
    "\n",
    "# Inputs\n",
    "prob_a_sent = 100/125\n",
    "prob_b_sent = 25/125\n",
    "prob_a_sent_fail = 0.98\n",
    "prob_b_sent_fail = 0.07\n",
    "\n",
    "# Calculate probability using Bayes' formula\n",
    "result_a = bayes_formula(prob_a_sent, prob_b_sent, prob_a_sent_fail, prob_b_sent_fail)\n",
    "# Calculate probability using Bayes' formula\n",
    "result_b = bayes_formula(prob_b_sent, prob_a_sent, prob_b_sent_fail, prob_a_sent_fail)\n",
    "\n",
    "# Calculate the probability that A is received\n",
    "prob_a_received = (1-prob_a_sent_fail)*prob_a_sent+prob_b_sent_fail*prob_b_sent\n",
    "\n",
    "# Calculate the probability that A is received\n",
    "prob_b_received = (1-prob_b_sent_fail)*prob_b_sent+prob_a_sent_fail*prob_a_sent\n",
    "\n",
    "# Print the result\n",
    "print(\"Probability of A sent given A is received:\", result_a)\n",
    "print(\"Probability of B sent given A is received:\", 1 - result_a)\n",
    "\n",
    "print(\"\\n\")\n",
    "\n",
    "print(\"Probability of B sent given B is received:\", result_b)\n",
    "print(\"Probability of A sent given B is received:\", 1 - result_b)\n",
    "\n",
    "# Print the probability that A is received\n",
    "print(\"Probability that A is received:\", prob_a_received)\n",
    "\n",
    "# Print the probability that B is received\n",
    "print(\"Probability that B is received:\", prob_b_received)\n"
   ]
  },
  {
   "attachments": {},
   "cell_type": "markdown",
   "metadata": {
    "pycharm": {
     "name": "#%% md\n"
    }
   },
   "source": [
    "Cumulative Distribution function (CDF):\n",
    "$$F(a) = \\sum_{all x \\leq a} P(x)$$"
   ]
  },
  {
   "cell_type": "code",
   "execution_count": 38,
   "metadata": {
    "pycharm": {
     "name": "#%%\n"
    }
   },
   "outputs": [
    {
     "name": "stdout",
     "output_type": "stream",
     "text": [
      "CDF: [0.2, 0.5, 1.0] 0.5\n"
     ]
    },
    {
     "data": {
      "image/png": "[encoded data removed]",
      "text/plain": [
       "<Figure size 640x480 with 1 Axes>"
      ]
     },
     "metadata": {},
     "output_type": "display_data"
    }
   ],
   "source": [
    "import matplotlib.pyplot as plt\n",
    "\n",
    "def cdf(a, probabilities):\n",
    "    # Calculate the cumulative distribution function (CDF)\n",
    "    cdf = 0\n",
    "    cdf_values = []  # List to store the CDF values\n",
    "    for x in (probabilities.keys()):\n",
    "        if x <= a:\n",
    "            cdf += probabilities[x]\n",
    "        cdf_values.append(cdf)\n",
    "    return cdf_values\n",
    "\n",
    "# Example usage\n",
    "probabilities = {1: 0.2, 2: 0.3, 3: 0.5}  # Dictionary of probabilities for each value\n",
    "\n",
    "a = 3  # Value of how much to calculate of the x axis\n",
    "\n",
    "cdf_values = cdf(a, probabilities)\n",
    "print(\"CDF:\", cdf_values, sum(probabilities[x] for x in probabilities if x < a))\n",
    "\n",
    "# Plotting the CDF\n",
    "x_values = sorted(probabilities.keys())\n",
    "plt.step(x_values, cdf_values, where='post')\n",
    "plt.xlabel('Values')\n",
    "plt.ylabel('CDF')\n",
    "plt.title('Cumulative Distribution Function')\n",
    "plt.ylim(0, 1)  # Set the y-axis limits to match the CDF range\n",
    "plt.xlim(0, a)  # Set the x-axis limits to match the CDF range\n",
    "plt.grid(True)\n",
    "plt.show()"
   ]
  },
  {
   "attachments": {},
   "cell_type": "markdown",
   "metadata": {
    "pycharm": {
     "name": "#%% md\n"
    }
   },
   "source": [
    "Probability mass function (PMF) for discrete R.V:\n",
    "$$p(x) = P(X = x)$$\n"
   ]
  },
  {
   "cell_type": "code",
   "execution_count": 4,
   "metadata": {
    "pycharm": {
     "name": "#%%\n"
    }
   },
   "outputs": [
    {
     "data": {
      "image/png": "[encoded data removed]",
      "text/plain": [
       "<Figure size 640x480 with 1 Axes>"
      ]
     },
     "metadata": {},
     "output_type": "display_data"
    },
    {
     "name": "stdout",
     "output_type": "stream",
     "text": [
      "Mean: 2.3\n",
      "Variance: 0.61\n"
     ]
    }
   ],
   "source": [
    "import numpy as np\n",
    "import matplotlib.pyplot as plt\n",
    "\n",
    "def pmf(x, probabilities):\n",
    "    # Calculate the probability mass function (PMF) for a discrete random variable\n",
    "    if x in probabilities:\n",
    "        return probabilities[x]\n",
    "    else:\n",
    "        return 0\n",
    "\n",
    "def plot_pmf(probabilities):\n",
    "    values = list(probabilities.keys())\n",
    "    pmf_values = list(probabilities.values())\n",
    "\n",
    "    plt.bar(values, pmf_values, width=0.2)\n",
    "    plt.xlabel('Values')\n",
    "    plt.ylabel('Probability')\n",
    "    plt.title('Probability Mass Function (PMF)')\n",
    "    plt.show()\n",
    "\n",
    "def calculate_mean(probabilities):\n",
    "    values = list(probabilities.keys())\n",
    "    pmf_values = list(probabilities.values())\n",
    "    mean = np.dot(values, pmf_values)\n",
    "    return mean\n",
    "\n",
    "def calculate_variance(probabilities):\n",
    "    values = list(probabilities.keys())\n",
    "    pmf_values = list(probabilities.values())\n",
    "    mean = calculate_mean(probabilities)\n",
    "    variance = np.dot((values - mean) ** 2, pmf_values)\n",
    "    return variance\n",
    "\n",
    "# Example usage\n",
    "probabilities = {1: 0.2, 2: 0.3, 3: 0.5}  # Dictionary of probabilities for each value\n",
    "\n",
    "plot_pmf(probabilities)\n",
    "mean = calculate_mean(probabilities)\n",
    "variance = calculate_variance(probabilities)\n",
    "\n",
    "print(\"Mean:\", mean)\n",
    "print(\"Variance:\", variance)\n"
   ]
  },
  {
   "attachments": {},
   "cell_type": "markdown",
   "metadata": {
    "pycharm": {
     "name": "#%% md\n"
    }
   },
   "source": [
    "Probability density function (PDF) continuous r.v:\n",
    "$$P(a \\leq X < b) = \\int_{a}^{b} f(x) dx$$\n",
    "\n"
   ]
  },
  {
   "cell_type": "code",
   "execution_count": 1,
   "metadata": {
    "pycharm": {
     "name": "#%%\n"
    }
   },
   "outputs": [
    {
     "name": "stdout",
     "output_type": "stream",
     "text": [
      "PDF: 2.3333333333333335\n"
     ]
    },
    {
     "data": {
      "image/png": "[encoded data removed]",
      "text/plain": [
       "<Figure size 640x480 with 1 Axes>"
      ]
     },
     "metadata": {},
     "output_type": "display_data"
    }
   ],
   "source": [
    "import scipy.integrate as spi\n",
    "import numpy as np\n",
    "import matplotlib.pyplot as plt\n",
    "\n",
    "def pdf(a, b, pdf_function):\n",
    "    # Calculate the probability density function (PDF)\n",
    "    result, _ = spi.quad(pdf_function, a, b)\n",
    "    return result\n",
    "\n",
    "# Example usage\n",
    "def pdf_function(x):\n",
    "    # Define the probability density function (PDF)\n",
    "    # Replace with your own function or distribution\n",
    "    return x**2\n",
    "\n",
    "a = 1.0  # Lower bound\n",
    "b = 2.0  # Upper bound\n",
    "\n",
    "pdf_value = pdf(a, b, pdf_function)\n",
    "print(\"PDF:\", pdf_value)\n",
    "\n",
    "# Plotting the PDF\n",
    "x = np.linspace(a, b, 100)  # Create 100 equally spaced points between a and b\n",
    "y = pdf_function(x)         # Evaluate the PDF function at each point\n",
    "\n",
    "plt.plot(x, y)\n",
    "plt.xlabel('x')\n",
    "plt.ylabel('PDF')\n",
    "plt.title('Probability Density Function')\n",
    "plt.grid(True)\n",
    "plt.show()\n",
    "\n"
   ]
  },
  {
   "attachments": {},
   "cell_type": "markdown",
   "metadata": {
    "pycharm": {
     "name": "#%% md\n"
    }
   },
   "source": [
    "Mixed type:\n",
    "$$F(x) = p_1 * F_1(x) + p_2 * F_2(x) + ... + p_n * F_n(x)$$\n"
   ]
  },
  {
   "cell_type": "code",
   "execution_count": null,
   "metadata": {
    "pycharm": {
     "name": "#%%\n"
    }
   },
   "outputs": [],
   "source": [
    "def cdf(x, probabilities, cdfs):\n",
    "    # Calculate the cumulative distribution function (CDF)\n",
    "    cdf = 0\n",
    "    for i in range(len(probabilities)):\n",
    "        cdf += probabilities[i] * cdfs[i](x)\n",
    "    return cdf\n",
    "\n",
    "# Example usage\n",
    "probabilities = [0.2, 0.3, 0.5]  # List of probabilities\n",
    "cdfs = [cdf1, cdf2, cdf3]  # List of CDF functions for each distribution\n",
    "\n",
    "x = 2.0  # Value at which to compute the CDF\n",
    "\n",
    "cdf_value = cdf(x, probabilities, cdfs)\n",
    "print(\"CDF:\", cdf_value)\n"
   ]
  },
  {
   "attachments": {},
   "cell_type": "markdown",
   "metadata": {
    "pycharm": {
     "name": "#%% md\n"
    }
   },
   "source": [
    "Multiple r.v joint CDF:\n",
    "$$F(x, y) = P(X \\leq x, Y \\leq y)$$"
   ]
  },
  {
   "cell_type": "code",
   "execution_count": null,
   "metadata": {
    "pycharm": {
     "name": "#%%\n"
    }
   },
   "outputs": [],
   "source": [
    "def joint_cdf(x, y, probabilities):\n",
    "    # Calculate the joint cumulative distribution function (CDF) for two random variables\n",
    "    cdf = 0\n",
    "    for (x_val, y_val), prob in probabilities.items():\n",
    "        if x_val <= x and y_val <= y:\n",
    "            cdf += prob\n",
    "    return cdf\n",
    "\n",
    "# Example usage\n",
    "probabilities = { (1, 2): 0.1, (2, 3): 0.2, (3, 4): 0.3, (4, 5): 0.4 }  # Dictionary of probabilities for each (x, y) pair\n",
    "\n",
    "x = 3.5  # Value for the first random variable\n",
    "y = 4.2  # Value for the second random variable\n",
    "\n",
    "cdf_value = joint_cdf(x, y, probabilities)\n",
    "print(\"Joint CDF:\", cdf_value)"
   ]
  },
  {
   "attachments": {},
   "cell_type": "markdown",
   "metadata": {
    "pycharm": {
     "name": "#%% md\n"
    }
   },
   "source": [
    "Joint distributed disrete r.vs. \n",
    "joint pmf:\n",
    "$$p(x_i, y_i) = P(X = x_i, Y = y_i)$$"
   ]
  },
  {
   "cell_type": "code",
   "execution_count": 1,
   "metadata": {
    "pycharm": {
     "name": "#%%\n"
    }
   },
   "outputs": [
    {
     "name": "stdout",
     "output_type": "stream",
     "text": [
      "Joint PMF: 0.5\n"
     ]
    }
   ],
   "source": [
    "def joint_pmf(x, y, probabilities):\n",
    "    # Calculate the joint probability mass function (PMF) for two random variables\n",
    "    if (x, y) in probabilities:\n",
    "        pmf = probabilities[(x, y)]\n",
    "    else:\n",
    "        pmf = 0\n",
    "    return pmf\n",
    "\n",
    "# Example usage\n",
    "probabilities = { (0, 0): 0.5, (0, 1): 0.25, (1, 0): 0.25, (1, 1): 0 }  # Dictionary of probabilities for each (x, y) pair\n",
    "\n",
    "x = 0  # Value for the first random variable\n",
    "y = 0  # Value for the second random variable\n",
    "\n",
    "pmf_value = joint_pmf(x, y, probabilities)\n",
    "print(\"Joint PMF:\", pmf_value)"
   ]
  },
  {
   "attachments": {},
   "cell_type": "markdown",
   "metadata": {
    "pycharm": {
     "name": "#%% md\n"
    }
   },
   "source": [
    "Jointly distributed continous r.vs.\n",
    "$$P\\{(X, Y) \\in C\\} = \\int\\int_{(x, y) \\in C} f(x, y) \\, dx \\, dy$$"
   ]
  },
  {
   "cell_type": "code",
   "execution_count": null,
   "metadata": {
    "pycharm": {
     "name": "#%%\n"
    }
   },
   "outputs": [],
   "source": [
    "import scipy.integrate as spi\n",
    "\n",
    "def probability_in_region(region, joint_pdf_function):\n",
    "    # Calculate the probability of the event (X, Y) belonging to the given region\n",
    "    result, _ = spi.dblquad(joint_pdf_function, region[0], region[1], lambda x: region[2](x), lambda x: region[3](x))\n",
    "    return result\n",
    "\n",
    "# Example usage\n",
    "def joint_pdf_function(x, y):\n",
    "    # Define the joint probability density function (PDF) for (X, Y)\n",
    "    # Replace with your own function or distribution\n",
    "    return x * y\n",
    "\n",
    "region = [0, 1, lambda x: x, lambda x: 2 * x]  # Region defined as [x_min, x_max, y_min_function, y_max_function]\n",
    "\n",
    "probability = probability_in_region(region, joint_pdf_function)\n",
    "print(\"Probability:\", probability)"
   ]
  },
  {
   "attachments": {},
   "cell_type": "markdown",
   "metadata": {
    "pycharm": {
     "name": "#%% md\n"
    }
   },
   "source": [
    "If you are talking about independent r.v.\n",
    "You can split the formels:\n",
    "CDF:\n",
    "$$F(A, B) = F_X(A) \\cdot F_Y(B)$$\n",
    "In terms of probability mass function (PMF) for discrete random variables (rv) and probability density function (PDF) for continuous random variables:\n",
    "$$p(x, y) = p_X(x) \\cdot p_Y(y)$$\n",
    "$$f(x, y) = f_X(x) \\cdot f_Y(y)$$\n",
    "Basically, X and Y are independent if knowing the value of one does not change the distribution of another.\n"
   ]
  },
  {
   "attachments": {},
   "cell_type": "markdown",
   "metadata": {
    "pycharm": {
     "name": "#%% md\n"
    }
   },
   "source": [
    "The relationship between two random variables can often be clarified by consideration of the conditional distribution of one given the value of the other.\n",
    "\n",
    "The conditional probability mass function (PMF) of X given that Y=y is defined by:\n",
    "$$p_{X|Y}(x|y) = P(X=x|Y=y) = \\frac{P(X, Y)}{P_Y(y)}$$\n",
    "\n",
    "If X and Y have a joint probability density function (PDF), then the conditional probability density function (PDF) of X given that Y=y is defined as:\n",
    "$$f_{X|Y}(x|y) = \\frac{f(x, y)}{f_Y(y)}$$\n"
   ]
  }
 ],
 "metadata": {
  "kernelspec": {
   "display_name": "Python 3",
   "language": "python",
   "name": "python3"
  },
  "language_info": {
   "codemirror_mode": {
    "name": "ipython",
    "version": 3
   },
   "file_extension": ".py",
   "mimetype": "text/x-python",
   "name": "python",
   "nbconvert_exporter": "python",
   "pygments_lexer": "ipython3",
   "version": "3.11.1"
  },
  "orig_nbformat": 4
 },
 "nbformat": 4,
 "nbformat_minor": 2
}