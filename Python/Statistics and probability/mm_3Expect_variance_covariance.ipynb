{
 "cells": [
  {
   "attachments": {},
   "cell_type": "markdown",
   "metadata": {
    "pycharm": {
     "name": "#%% md\n"
    }
   },
   "source": [
    "E(X); the expectation represents the average value or mean of a discrete random variable X\n",
    "$\\newline$\n",
    "It provides a measure of the central tendency of the variable's distribution.\n",
    "$\\newline$\n",
    "$$E[X] = \\sum \\limits _{i} x_i P(X = x_i) = \\sum \\limits _{i} x_i p(x_i)$$\n",
    "\n",
    "E[X]: Expected value is a measure of the central tendency or average value of a random variable. In the context of probability and statistics, it represents the long-term average outcome or value we would expect to observe if we repeated an experiment many times.\n",
    "\n",
    "x_i: This represents the possible values that the random variable X can take. In other words, x_i represents a specific outcome or value that X can assume.\n",
    "\n",
    "P(X = x_i) or p(x_i): This represents the probability that the random variable X takes on the value x_i. In other words, it represents the likelihood of each possible outcome occurring.\n",
    "\n",
    "The expected value is a useful concept in probability and statistics as it provides a single value that summarizes the central tendency of a random variable. It can be used to make predictions, compare different random variables, or evaluate the average outcome of an experiment or process."
   ]
  },
  {
   "cell_type": "code",
   "execution_count": 1,
   "metadata": {
    "pycharm": {
     "name": "#%%\n"
    }
   },
   "outputs": [
    {
     "name": "stdout",
     "output_type": "stream",
     "text": [
      "E(X) = -0.5\n"
     ]
    }
   ],
   "source": [
    "import math\n",
    "\n",
    "x = [1, 2, 3, 4, 5, 6] #possible events\n",
    "p = [1/6, -1/6, 1/6, -1/6, 1/6, -1/6] #corresponding weighted probabilities set by the rules of the game (see slide 4 & 7 (mm3_updated.pdf))\n",
    "\n",
    "# To calculate the expected value E(x), you sum up the products of each possible value x_i and its corresponding probability P(X = x_i):\n",
    "expectation = sum(xi * pi for xi, pi in zip(x, p))\n",
    "#In this equation, you iterate over all the possible values of X, multiply each value by its corresponding probability, and sum up these products. The result is the expected value of X.\n",
    "\n",
    "# Print the result\n",
    "print(\"E(X) =\", expectation)"
   ]
  },
  {
   "attachments": {},
   "cell_type": "markdown",
   "metadata": {
    "pycharm": {
     "name": "#%% md\n"
    }
   },
   "source": [
    "If X is a continuous random variable\n",
    "\n",
    "$$E[X] = \\int_{-∞}^∞ \\, x f(x)dx$$\n",
    "\n",
    "E[X]: As mentioned above, the expected value represents the average or central tendency of a random variable.\n",
    "\n",
    "x: This variable represents the possible values that the continuous random variable X can take.\n",
    "\n",
    "f(x): This represents the probability density function (PDF) of X. The PDF provides the relative likelihood of observing different values of X. It describes the distribution of X and its shape.\n",
    "\n",
    "The expected value of a continuous random variable provides a measure of the central tendency or average value of the variable. It is useful for characterizing the distribution and making predictions or comparisons based on the average outcome."
   ]
  },
  {
   "cell_type": "code",
   "execution_count": 24,
   "metadata": {
    "pycharm": {
     "name": "#%%\n"
    }
   },
   "outputs": [
    {
     "name": "stdout",
     "output_type": "stream",
     "text": [
      "E[X] = 0.0\n"
     ]
    }
   ],
   "source": [
    "import math\n",
    "from scipy.integrate import quad #pip install scipy\n",
    "\n",
    "#To calculate the expected value, you multiply each possible value x by its corresponding probability density f(x), and then integrate over the entire range of X:\n",
    "\n",
    "def f(x): #whatever function is given in problem put here\n",
    "    if 0 <= x <= 1:\n",
    "        return x\n",
    "    elif -1 <= x < 0:\n",
    "        return -x\n",
    "    else:\n",
    "        return 0\n",
    "\n",
    "def integrand(x):\n",
    "    return x * f(x)\n",
    "\n",
    "# Define the integration limits\n",
    "lower_limit = float(-1) #whatever lowerlimit is given in problem put here\n",
    "upper_limit = float(1) #whatever upperlimit is given in problem put here\n",
    "\n",
    "# Perform the numerical integration\n",
    "expectation, error = quad(integrand, lower_limit, upper_limit)\n",
    "#In this equation, you integrate the product of x and f(x) over the entire range of possible values for X. The integral sums up the contributions from all the possible values of X, weighted by their respective probabilities.\n",
    "\n",
    "# Print the result\n",
    "print(\"E[X] =\", expectation)\n"
   ]
  },
  {
   "attachments": {},
   "cell_type": "markdown",
   "metadata": {
    "pycharm": {
     "name": "#%% md\n"
    }
   },
   "source": [
    "Now we found the expected value of a function g(X), think of it as a new random variable Y=g(X)\n",
    "\n",
    "$$E[Y] = E[g(X)] = \\sum \\limits _{i} g(x_i) p(x_i)$$\n",
    "\n",
    "E[Y]: This represents the expected value of the random variable Y. In this case, Y is defined as the function g(X).\n",
    "\n",
    "g(X): This is a function that operates on the random variable X. It takes the values of X as inputs and produces corresponding values of Y.\n",
    "\n",
    "x_i: These are the possible values that the random variable X can take.\n",
    "\n",
    "p(x_i): This represents the probability mass function (PMF) of X, which gives the probability of each possible value x_i.\n",
    "\n",
    "This equation allows you to calculate the expected value of a transformed random variable by applying a function to the original random variable. It is commonly used to assess the average outcome or behavior of a function of interest"
   ]
  },
  {
   "cell_type": "code",
   "execution_count": 34,
   "metadata": {
    "pycharm": {
     "name": "#%%\n"
    }
   },
   "outputs": [
    {
     "name": "stdout",
     "output_type": "stream",
     "text": [
      "E(X) = 2.5\n"
     ]
    }
   ],
   "source": [
    "#To calculate the expected value E[Y], you sum up the products of the function values g(x_i) and their corresponding probabilities p(x_i):\n",
    "\n",
    "x = [-2, -1, 1, 2] #possible events\n",
    "p = [1/len(x), 1/len(x), 1/len(x), 1/len(x)] #corresponding weighted probabilities\n",
    "\n",
    "def g(x): #function of the possible events\n",
    "    return x**2\n",
    "\n",
    "# Calculate E(X)\n",
    "expectation = sum(g(xi) * pi for xi, pi in zip(x, p))\n",
    "#In this equation, you iterate over all the possible values of X, apply the function g(X) to each value, multiply the result by the corresponding probability p(x_i), and sum up these products. The result is the expected value of Y\n",
    "\n",
    "# Print the result\n",
    "print(\"E(X) =\", expectation)"
   ]
  },
  {
   "attachments": {},
   "cell_type": "markdown",
   "metadata": {
    "pycharm": {
     "name": "#%% md\n"
    }
   },
   "source": [
    "Regneregler\n",
    "$\\newline$\n",
    "Always applies:\n",
    "$$E[X+Y] = E[X] + E[Y]$$\n",
    "$\\newline$\n",
    "Only applies if they are independent:\n",
    "$$E[X*Y] = E[X] * E[Y]$$\n",
    "\n",
    "\n",
    "\n"
   ]
  },
  {
   "attachments": {},
   "cell_type": "markdown",
   "metadata": {
    "pycharm": {
     "name": "#%% md\n"
    }
   },
   "source": [
    "Variance\n",
    "$\\newline$\n",
    "Variance is a statistical measure that quantifies the spread or variability of a set of data points around their mean. \n",
    "$\\newline$\n",
    "It provides a measure of how much the individual data points deviate from the average.\n",
    "$$Var(X) = E[(X - E(x))^2] = E[X^2] - E[X]^2$$\n",
    "\n",
    "Var(X): This represents the variance of the random variable X. Variance is a measure of the spread or dispersion of a random variable's distribution.\n",
    "\n",
    "E(X): This denotes the expected value or mean of the random variable X.\n",
    "\n",
    "(X - E(X))^2: This term represents the squared difference between each individual value of X and its expected value. This step is necessary to measure the spread of the random variable.\n",
    "\n"
   ]
  },
  {
   "cell_type": "code",
   "execution_count": 35,
   "metadata": {
    "pycharm": {
     "name": "#%%\n"
    }
   },
   "outputs": [
    {
     "name": "stdout",
     "output_type": "stream",
     "text": [
      "Var(X) = 2.0\n"
     ]
    }
   ],
   "source": [
    "# To calculate the variance, you take the expected value of the squared differences between X and its expected value:\n",
    "\n",
    "def calculate_variance(data):\n",
    "    # Calculate the number of data points\n",
    "    n = len(data)\n",
    "    \n",
    "    # Calculate the mean of the data points\n",
    "    mean = sum(data) / n\n",
    "    \n",
    "    # Calculate the variance using the formula (x - mean)^2\n",
    "    # Sum up the squared differences between each data point and the mean\n",
    "    variance = sum((x - mean) ** 2 for x in data) / n\n",
    "    \n",
    "    # Return the calculated variance\n",
    "    return variance\n",
    "\n",
    "# Example usage\n",
    "values = [1, 2, 3, 4, 5]\n",
    "result = calculate_variance(values)\n",
    "\n",
    "# The variance provides information about the spread or dispersion of the values of X around its mean\n",
    "\n",
    "print(\"Var(X) =\", result)\n"
   ]
  },
  {
   "attachments": {},
   "cell_type": "markdown",
   "metadata": {
    "pycharm": {
     "name": "#%% md\n"
    }
   },
   "source": [
    "Covariance\n",
    "$\\newline$\n",
    "It measures how changes in one variable correspond to changes in another variable\n",
    "$$Cov(X, Y) = E[(X - E[X])(Y - E[Y])]$$\n",
    "\n",
    "Cov(X, Y): This represents the covariance between the random variables X and Y. Covariance measures the extent to which X and Y vary together or co-vary.\n",
    "\n",
    "E(X): This denotes the expected value or mean of the random variable X.\n",
    "\n",
    "E(Y): This denotes the expected value or mean of the random variable Y.\n",
    "\n",
    "(X - E(X))(Y - E(Y)): This term represents the product of the differences between each individual value of X and its expected value, and each individual value of Y and its expected value. This step captures how the two variables deviate from their respective means simultaneously.\n",
    "\n",
    "The covariance is a measure of the linear relationship between two random variables."
   ]
  },
  {
   "cell_type": "code",
   "execution_count": 2,
   "metadata": {
    "pycharm": {
     "name": "#%%\n"
    }
   },
   "outputs": [
    {
     "name": "stdout",
     "output_type": "stream",
     "text": [
      "Cov(X, Y) = 4.0\n"
     ]
    }
   ],
   "source": [
    "# To calculate the covariance, you take the expected value of the product of the deviations between X and its mean and Y and its mean:\n",
    "\n",
    "def calculate_covariance(data_x, data_y):\n",
    "    # Calculate the number of data points\n",
    "    n = len(data_x)\n",
    "    \n",
    "    # Calculate the means of X and Y\n",
    "    mean_x = sum(data_x) / n\n",
    "    mean_y = sum(data_y) / n\n",
    "    \n",
    "    # Calculate the covariance using the formula (X - E(X))(Y - E(Y))\n",
    "    covariance = sum((data_x[i] - mean_x) * (data_y[i] - mean_y) for i in range(n)) / n\n",
    "    \n",
    "    # Return the calculated covariance\n",
    "    return covariance\n",
    "\n",
    "# Example usage\n",
    "x_values = [1, 2, 3, 4, 5]\n",
    "y_values = [2, 4, 6, 8, 10]\n",
    "result = calculate_covariance(x_values, y_values)\n",
    "\n",
    "# This formula measures the average or expected joint variability between X and Y. \n",
    "# If the covariance is positive, it indicates that the variables tend to move together in the same direction. \n",
    "# If it is negative, it suggests that the variables tend to move in opposite directions. \n",
    "# A covariance of zero suggests no linear relationship between the variables.\n",
    "\n",
    "print(\"Cov(X, Y) =\", result)\n"
   ]
  },
  {
   "attachments": {},
   "cell_type": "markdown",
   "metadata": {
    "pycharm": {
     "name": "#%% md\n"
    }
   },
   "source": [
    "Some useful identities concerning variances:\n",
    "\n",
    "Calculate the variance of the linear transformation\n",
    "$$Var(aX + b) = a^2Var(X)$$\n",
    "\n",
    "Var(aX + b): This represents the variance of the random variable (aX + b).\n",
    "\n",
    "a: This is a constant multiplier.\n",
    "\n",
    "X: This represents the random variable.\n",
    "\n",
    "b: This is a constant term added to the product of aX.\n",
    "\n",
    "This property is often used in probability and statistics to analyze how linear transformations affect the variance of a random variable. It provides a simple way to calculate the new variance when the original random variable is scaled and shifted by constants."
   ]
  },
  {
   "cell_type": "code",
   "execution_count": 39,
   "metadata": {
    "pycharm": {
     "name": "#%%\n"
    }
   },
   "outputs": [
    {
     "name": "stdout",
     "output_type": "stream",
     "text": [
      "Var(aX + b) = 20\n"
     ]
    }
   ],
   "source": [
    "# The property states that the variance of the transformed random variable (aX + b) is equal to the square of the constant \"a\" multiplied by the variance of the original random variable X:\n",
    "\n",
    "def variance_linear_transform(a, b, variance_X):\n",
    "    # Calculate the variance of the linear transformation\n",
    "    transformed_variance = (a ** 2) * variance_X\n",
    "    \n",
    "    # Return the transformed variance\n",
    "    return transformed_variance\n",
    "\n",
    "# Example usage\n",
    "a = 2\n",
    "b = 3\n",
    "variance_X = 5\n",
    "\n",
    "# Calculate the variance of the linear transformation\n",
    "result = variance_linear_transform(a, b, variance_X)\n",
    "\n",
    "# In other words, multiplying a random variable X by a constant \"a\" and adding a constant \"b\" does not change the variance of the random variable. \n",
    "# However, the variance is scaled by the square of the constant \"a\".\n",
    "\n",
    "print(\"Var(aX + b) =\", result)"
   ]
  },
  {
   "attachments": {},
   "cell_type": "markdown",
   "metadata": {
    "pycharm": {
     "name": "#%% md\n"
    }
   },
   "source": [
    "Calculate the variance of the constant\n",
    "$$Var(b) = 0$$"
   ]
  },
  {
   "cell_type": "code",
   "execution_count": 37,
   "metadata": {
    "pycharm": {
     "name": "#%%\n"
    }
   },
   "outputs": [
    {
     "name": "stdout",
     "output_type": "stream",
     "text": [
      "Var(b) = 0\n"
     ]
    }
   ],
   "source": [
    "def variance_constant(b):\n",
    "    # Variance of a constant is always zero\n",
    "    constant_variance = 0\n",
    "    \n",
    "    # Return the variance of the constant\n",
    "    return constant_variance\n",
    "\n",
    "# Example usage\n",
    "b = 5\n",
    "\n",
    "# Calculate the variance of the constant\n",
    "result = variance_constant(b)\n",
    "print(\"Var(b) =\", result)"
   ]
  },
  {
   "attachments": {},
   "cell_type": "markdown",
   "metadata": {
    "pycharm": {
     "name": "#%% md\n"
    }
   },
   "source": [
    "Calculate the variance of the shifted random variable\n",
    "$$Var(X + b) = Var(X)$$\n",
    "\n",
    "Var(X + b): This represents the variance of the random variable (X + b).\n",
    "\n",
    "X: This represents the random variable.\n",
    "\n",
    "b: This is a constant term added to the random variable X.\n",
    "\n",
    "This property is a fundamental result in probability and statistics. It implies that shifting a random variable by a constant does not alter its variance. However, it is important to note that the mean of the random variable will change when a constant is added."
   ]
  },
  {
   "cell_type": "code",
   "execution_count": 38,
   "metadata": {
    "pycharm": {
     "name": "#%%\n"
    }
   },
   "outputs": [
    {
     "name": "stdout",
     "output_type": "stream",
     "text": [
      "Var(X + b) = 10\n"
     ]
    }
   ],
   "source": [
    "# The property states that adding a constant \"b\" to a random variable X does not change the variance of the random variable:\n",
    "\n",
    "def variance_shift(X_variance):\n",
    "    # Variance remains the same when shifting a random variable by a constant\n",
    "    shifted_variance = X_variance\n",
    "    \n",
    "    # Return the shifted variance\n",
    "    return shifted_variance\n",
    "\n",
    "# Example usage\n",
    "X_variance = 10\n",
    "\n",
    "# Calculate the variance of the shifted random variable\n",
    "result = variance_shift(X_variance)\n",
    "\n",
    "# In other words, the variance of the sum of X and a constant \"b\" is equal to the variance of X alone. \n",
    "# The addition of a constant term does not affect the spread or dispersion of the random variable\n",
    "\n",
    "print(\"Var(X + b) =\", result)"
   ]
  },
  {
   "attachments": {},
   "cell_type": "markdown",
   "metadata": {
    "pycharm": {
     "name": "#%% md\n"
    }
   },
   "source": [
    "Instead of covariance, we can work with dimensionless quality:\n",
    "$\\newline$\n",
    "• Correlation coefficient of X and Y\n",
    "$\\newline$\n",
    "Correlation coefficient is a measure of the strength and direction of the linear relationship between two variables\n",
    "$$Corr(X, Y) = \\frac{Cov(X, Y)}{\\sqrt{(Var(X))}\\sqrt{(Var(Y))}}$$\n",
    "\n",
    "Corr(X, Y): This represents the correlation coefficient between the random variables X and Y. The correlation coefficient measures the strength and direction of the linear relationship between the two variables.\n",
    "\n",
    "Cov(X, Y): This represents the covariance between the random variables X and Y. Covariance measures the extent to which X and Y vary together or co-vary.\n",
    "\n",
    "Var(X): This represents the variance of the random variable X. Variance measures the spread or dispersion of X.\n",
    "\n",
    "Var(Y): This represents the variance of the random variable Y. Variance measures the spread or dispersion of Y.\n",
    "\n",
    "The correlation coefficient is a widely used measure in statistics and is helpful for understanding the degree of association or dependence between two variables. It allows you to quantify the strength and direction of the linear relationship, independent of the scale or units of measurement of the variables."
   ]
  },
  {
   "cell_type": "code",
   "execution_count": null,
   "metadata": {
    "pycharm": {
     "name": "#%%\n"
    }
   },
   "outputs": [],
   "source": [
    "import numpy as np\n",
    "\n",
    "# The formula for calculating the correlation coefficient is:\n",
    "\n",
    "def calculate_correlation_coefficient(x_values, y_values):\n",
    "    # Calculate the correlation coefficient using numpy's corrcoef function\n",
    "    correlation_matrix = np.corrcoef(x_values, y_values)\n",
    "    \n",
    "    # The correlation coefficient is the element at index (0, 1) or (1, 0) in the correlation matrix\n",
    "    correlation_coefficient = correlation_matrix[0, 1]\n",
    "    \n",
    "    # Return the correlation coefficient\n",
    "    return correlation_coefficient\n",
    "\n",
    "# Example usage\n",
    "x_values = [1, 2, 3, 4, 5]\n",
    "y_values = [2, 4, 6, 8, 10]\n",
    "result = calculate_correlation_coefficient(x_values, y_values)\n",
    "\n",
    "# In this formula, the covariance between X and Y is divided by the product of the square roots of their variances. The correlation coefficient normalizes the covariance by scaling it with the standard deviations of X and Y.\n",
    "\n",
    "# The correlation coefficient ranges between -1 and 1. A value of 1 indicates a perfect positive linear relationship, -1 indicates a perfect negative linear relationship, and 0 indicates no linear relationship between X and Y.\n",
    "\n",
    "print(\"Correlation coefficient =\", result)"
   ]
  }
 ],
 "metadata": {
  "kernelspec": {
   "display_name": "Python 3",
   "language": "python",
   "name": "python3"
  },
  "language_info": {
   "codemirror_mode": {
    "name": "ipython",
    "version": 3
   },
   "file_extension": ".py",
   "mimetype": "text/x-python",
   "name": "python",
   "nbconvert_exporter": "python",
   "pygments_lexer": "ipython3",
   "version": "3.11.3"
  },
  "orig_nbformat": 4
 },
 "nbformat": 4,
 "nbformat_minor": 2
}