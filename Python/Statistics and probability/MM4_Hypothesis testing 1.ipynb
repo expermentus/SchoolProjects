{
 "cells": [
  {
   "cell_type": "markdown",
   "source": [
    "This lecture the focus was hypothesis testing were h0 is the null hypothesis\n",
    "\n",
    "|              | Accept            | Reject            |\n",
    "|--------------|-------------------|-------------------|\n",
    "| H0 is true   | Correct Decision  | Type I Error      |\n",
    "| H0 is false  | Type II Error     | Correct Decision  |\n"
   ],
   "metadata": {
    "collapsed": false,
    "pycharm": {
     "name": "#%% md\n"
    }
   }
  },
  {
   "cell_type": "markdown",
   "source": [
    "To find the two-sided confident interval using the z_score from a sample using this formular"
   ],
   "metadata": {
    "collapsed": false,
    "pycharm": {
     "name": "#%% md\n"
    }
   }
  },
  {
   "cell_type": "markdown",
   "source": [
    "$$CI = \\left(\\text{{sample\\_mean}} - \\text{{z\\_score}} \\cdot \\frac{{\\text{{sigma}}}}{{\\sqrt{n}}}, \\text{{sample\\_mean}} + \\text{{z\\_score}} \\cdot \\frac{{\\text{{sigma}}}}{{\\sqrt{n}}}\\right)$$"
   ],
   "metadata": {
    "collapsed": false,
    "pycharm": {
     "name": "#%% md\n"
    }
   }
  },
  {
   "cell_type": "code",
   "execution_count": 1,
   "outputs": [
    {
     "name": "stdout",
     "output_type": "stream",
     "text": [
      "The 95.0% confidence interval is 160.7202195241127, 170.87978047588732.\n"
     ]
    }
   ],
   "source": [
    "import numpy as np\n",
    "import math\n",
    "from scipy.stats import norm\n",
    "\n",
    "#inset the observations in a array\n",
    "sample = [176.2, 157.9, 160.1, 180.9, 165.1, 167.2, 162.9, 155.7, 166.2]\n",
    "\n",
    "#Based on the array we calculate the mean\n",
    "sample_mean = np.mean(sample)\n",
    "\n",
    "#choose one of the three confidence levels\n",
    "#standards being 0.1, 0.05, 0.01\n",
    "confidence_level = 0.05\n",
    "conf_lvl_pro = (1 - confidence_level)*100\n",
    "\n",
    "#the z_score of the most common confidence levels is shown and used here\n",
    "z_score = norm.ppf(1-confidence_level/2)\n",
    "\n",
    "#sigma is the confidence interval\n",
    "#offent shown as +-sigma\n",
    "#also known as standard error\n",
    "#this is the number being squred\n",
    "sigma = np.std(sample)\n",
    "\n",
    "#based on the array we calculate the sample size\n",
    "n = len(sample)\n",
    "\n",
    "#Then to Confidence interval is being calculated\n",
    "CIlower = (sample_mean - z_score * sigma / math.sqrt(n))\n",
    "CIupper = (sample_mean + z_score * sigma / math.sqrt(n))\n",
    "\n",
    "print(f\"The {conf_lvl_pro}% confidence interval is {CIlower}, {CIupper}.\")\n"
   ],
   "metadata": {
    "collapsed": false,
    "pycharm": {
     "name": "#%%\n"
    }
   }
  },
  {
   "cell_type": "markdown",
   "source": [],
   "metadata": {
    "collapsed": false,
    "pycharm": {
     "name": "#%% md\n"
    }
   }
  },
  {
   "cell_type": "markdown",
   "source": [
    "Using the confidence interval calculated above, h0 is being tested\n",
    "\n",
    "h0 is accepted if it is within the confidence interval\n",
    "h0 is rejected if it is outside the confidence interval"
   ],
   "metadata": {
    "collapsed": false,
    "pycharm": {
     "name": "#%% md\n"
    }
   }
  },
  {
   "cell_type": "code",
   "execution_count": 2,
   "outputs": [
    {
     "name": "stdout",
     "output_type": "stream",
     "text": [
      "Testing for an expected value 170\n",
      "With 95.0% confidence, the interval is between 165.78693357343641, 165.8130664265636.\n",
      "Therefore h0 is rejected\n"
     ]
    }
   ],
   "source": [
    "import numpy as np\n",
    "import math\n",
    "from scipy.stats import norm\n",
    "\n",
    "#inset the observations in a array\n",
    "sample = [176.2, 157.9, 160.1, 180.9, 165.1, 167.2, 162.9, 155.7, 166.2]\n",
    "\n",
    "#Based on the array we calculate the mean\n",
    "sample_mean = np.mean(sample)\n",
    "\n",
    "#choose one of the three confidence levels\n",
    "#standards being 0.1, 0.05, 0.01\n",
    "confidence_level = 0.05\n",
    "conf_lvl_pro = (1 - confidence_level)*100\n",
    "\n",
    "#the z_score of the most common confidence levels is shown and used here\n",
    "z_score = norm.ppf(1-confidence_level/2)\n",
    "\n",
    "#sigma is the confidence interval\n",
    "#offent shown as +-sigma\n",
    "#also known as standard error\n",
    "#this is the number being squred\n",
    "sigma = 0.02\n",
    "\n",
    "#based on the array we calculate the sample size\n",
    "n = len(sample)\n",
    "\n",
    "#Then to Confidence interval is being calculated\n",
    "CIlower = (sample_mean - z_score * sigma / math.sqrt(n))\n",
    "CIupper = (sample_mean + z_score * sigma / math.sqrt(n))\n",
    "\n",
    "Expected_result_for_h0 = 170\n",
    "\n",
    "print(f\"Testing for an expected value {Expected_result_for_h0}\")\n",
    "print(f\"With {conf_lvl_pro}% confidence, the interval is between {CIlower}, {CIupper}.\")\n",
    "\n",
    "if CIlower < Expected_result_for_h0 < CIupper:\n",
    "    print(\"Therefore h0 is accepted\")\n",
    "else:\n",
    "    print(\"Therefore h0 is rejected\")\n"
   ],
   "metadata": {
    "collapsed": false,
    "pycharm": {
     "name": "#%%\n"
    }
   }
  },
  {
   "cell_type": "markdown",
   "source": [
    "To find the one-sided confident interval using the z_score from a sample using this formular"
   ],
   "metadata": {
    "collapsed": false,
    "pycharm": {
     "name": "#%% md\n"
    }
   }
  },
  {
   "cell_type": "markdown",
   "source": [
    "$$CI lower boundery = \\left(\\text{{sample\\_mean}} - \\text{{z\\_score}} \\cdot \\frac{{\\text{{sigma}}}}{{\\sqrt{n}}}\\right)$$\n",
    "$$CI upper aboundery = \\left(\\text{{sample\\_mean}} + \\text{{z\\_score}} \\cdot \\frac{{\\text{{sigma}}}}{{\\sqrt{n}}}\\right)$$"
   ],
   "metadata": {
    "collapsed": false,
    "pycharm": {
     "name": "#%% md\n"
    }
   }
  },
  {
   "cell_type": "code",
   "execution_count": 3,
   "outputs": [
    {
     "name": "stdout",
     "output_type": "stream",
     "text": [
      "With 95.0% confidence, the interval is below 8.189402967757513.\n",
      "\n",
      " ----------------------------------------------- \n",
      "\n",
      "With 95.0% confidence, the interval is above 8.168597032242491.\n"
     ]
    }
   ],
   "source": [
    "import numpy as np\n",
    "import math\n",
    "from scipy.stats import norm\n",
    "\n",
    "#inset the observations in a array\n",
    "sample = [8.18, 8.17, 8.16, 8.15, 8.17, 8.21, 8.22, 8.16, 8.19, 8.18]\n",
    "\n",
    "#Based on the array we calculate the mean\n",
    "sample_mean = np.mean(sample)\n",
    "\n",
    "#choose one of the three confidence levels\n",
    "#standards being 0.1, 0.05, 0.01\n",
    "confidence_level = 0.05\n",
    "conf_lvl_pro = (1 - confidence_level)*100\n",
    "\n",
    "#the z_score of the most common confidence levels is shown and used here\n",
    "z_score = norm.ppf(1-confidence_level)\n",
    "\n",
    "#sigma is the confidence interval\n",
    "#offent shown as +-sigma\n",
    "#also known as standard error\n",
    "#this is the number being squred\n",
    "sigma = 0.02\n",
    "\n",
    "#based on the array we calculate the sample size\n",
    "n = len(sample)\n",
    "\n",
    "#Then to Confidence interval is being calculated\n",
    "CIlower = (sample_mean - z_score * sigma / math.sqrt(n))\n",
    "CIupper = (sample_mean + z_score * sigma / math.sqrt(n))\n",
    "\n",
    "print(f\"With {conf_lvl_pro}% confidence, the interval is below {CIupper}.\")\n",
    "\n",
    "print(\"\\n ----------------------------------------------- \\n\")\n",
    "\n",
    "print(f\"With {conf_lvl_pro}% confidence, the interval is above {CIlower}.\")"
   ],
   "metadata": {
    "collapsed": false,
    "pycharm": {
     "name": "#%%\n"
    }
   }
  },
  {
   "cell_type": "markdown",
   "source": [
    "Then preforming the h0 testing with one-sided confidence intervals"
   ],
   "metadata": {
    "collapsed": false,
    "pycharm": {
     "name": "#%% md\n"
    }
   }
  },
  {
   "cell_type": "code",
   "execution_count": 4,
   "outputs": [
    {
     "name": "stdout",
     "output_type": "stream",
     "text": [
      "Testing for an expected value 8.2\n",
      "With 95.0% confidence, the interval is above 8.168597032242491.\n",
      "Therefore h0 is accepted\n",
      "\n",
      " ----------------------------------------------- \n",
      "\n",
      "Testing for an expected value 8.2\n",
      "With 95.0% confidence, the interval is below 8.189402967757513.\n",
      "Therefore h0 is accepted\n"
     ]
    }
   ],
   "source": [
    "import numpy as np\n",
    "import math\n",
    "from scipy.stats import norm\n",
    "\n",
    "#inset the observations in a array\n",
    "sample = [8.18, 8.17, 8.16, 8.15, 8.17, 8.21, 8.22, 8.16, 8.19, 8.18]\n",
    "\n",
    "#Based on the array we calculate the mean\n",
    "sample_mean = np.mean(sample)\n",
    "\n",
    "#choose one of the three confidence levels\n",
    "#standards being 0.1, 0.05, 0.01\n",
    "confidence_level = 0.05\n",
    "conf_lvl_pro = (1 - confidence_level)*100\n",
    "\n",
    "#the z_score of the most common confidence levels is shown and used here\n",
    "z_score = norm.ppf(1-confidence_level)\n",
    "\n",
    "#sigma is the confidence interval\n",
    "#offent shown as +-sigma\n",
    "#also known as standard error\n",
    "#this is the number being squred\n",
    "sigma = 0.02\n",
    "\n",
    "#based on the array we calculate the sample size\n",
    "n = len(sample)\n",
    "\n",
    "#Then to Confidence interval is being calculated\n",
    "CIlower = (sample_mean - z_score * sigma / math.sqrt(n))\n",
    "CIupper = (sample_mean + z_score * sigma / math.sqrt(n))\n",
    "\n",
    "Expected_result_for_h0 = 8.2\n",
    "\n",
    "print(f\"Testing for an expected value {Expected_result_for_h0}\")\n",
    "print(f\"With {conf_lvl_pro}% confidence, the interval is above {CIlower}.\")\n",
    "\n",
    "if CIlower < Expected_result_for_h0:\n",
    "    print(\"Therefore h0 is accepted\")\n",
    "else:\n",
    "    print(\"Therefore h0 is rejected\")\n",
    "\n",
    "print(\"\\n ----------------------------------------------- \\n\")\n",
    "\n",
    "print(f\"Testing for an expected value {Expected_result_for_h0}\")\n",
    "print(f\"With {conf_lvl_pro}% confidence, the interval is below {CIupper}.\")\n",
    "\n",
    "if CIupper < Expected_result_for_h0:\n",
    "    print(\"Therefore h0 is accepted\")\n",
    "else:\n",
    "    print(\"Therefore h0 is rejected\")"
   ],
   "metadata": {
    "collapsed": false,
    "pycharm": {
     "name": "#%%\n"
    }
   }
  },
  {
   "cell_type": "markdown",
   "source": [
    "Coin toss example, determining if the coin is a fair coin\n",
    "Rejection mean this is a type I error"
   ],
   "metadata": {
    "collapsed": false,
    "pycharm": {
     "name": "#%% md\n"
    }
   }
  },
  {
   "cell_type": "markdown",
   "source": [
    "$$Threshold_{\\text{a}} = t_{\\text{score}} \\cdot \\frac{\\sigma}{\\sqrt{n}}$$\n",
    "$$\\text{{sample\\_mean}} = \\frac{1}{n} \\sum_{i=1}^{n} \\text{{samples}}_{\\text{i}}$$\n"
   ],
   "metadata": {
    "collapsed": false,
    "pycharm": {
     "name": "#%% md\n"
    }
   }
  },
  {
   "cell_type": "code",
   "execution_count": 5,
   "outputs": [
    {
     "name": "stdout",
     "output_type": "stream",
     "text": [
      "Testing if the sample mean is acceptable knowing the excepted probability\n",
      "With a 95.0% confidence the threshold is 0.09919100342130518\n",
      "Therefore h0 is accepted, given a sample mean of 0.49\n"
     ]
    }
   ],
   "source": [
    "import random\n",
    "import numpy as np\n",
    "import math\n",
    "from scipy.stats import t\n",
    "\n",
    "def bernoulli(p):\n",
    "    #random.random gives a random value between 0 and 1\n",
    "    if random.random() < p:\n",
    "        return 1\n",
    "    else:\n",
    "        return 0\n",
    "\n",
    "# Testing the Bernoulli distribution\n",
    "n = 100\n",
    "\n",
    "#p_success is excepted probability of the chosen result\n",
    "#in a coin toss both are 50% and there is only two\n",
    "p_success = 0.5\n",
    "\n",
    "#confidence level is the alpha\n",
    "confidence_level = 0.05\n",
    "conf_lvl_pro = (1 - confidence_level)*100\n",
    "\n",
    "#samples is the randomly generated sample of coin tosses\n",
    "samples = [bernoulli(p_success) for _ in range(n)]\n",
    "\n",
    "# μ^ is the estimated mean, from the samples\n",
    "sample_mean = np.mean(samples)\n",
    "\n",
    "#test result is the distance from the known probability to the sample mean from the generated sample\n",
    "Test_result = np.round(abs(sample_mean - p_success), 3)\n",
    "\n",
    "#sigma is the standard deviation of the sample\n",
    "sigma = np.std(samples, ddof=0)\n",
    "\n",
    "#T score is the distance from the sample mean contained within the threshold\n",
    "t_score = abs(t.ppf(confidence_level/2, n-1))\n",
    "\n",
    "# a is the threshold for acceptance\n",
    "a = t_score * sigma / math.sqrt(n)\n",
    "\n",
    "print(f\"Testing if the sample mean is acceptable knowing the excepted probability\")\n",
    "\n",
    "print(f\"With a {conf_lvl_pro}% confidence the threshold is {a}\")\n",
    "\n",
    "if a > Test_result:\n",
    "    print(f\"Therefore h0 is accepted, given a sample mean of {sample_mean}\")\n",
    "else:\n",
    "    print(f\"Therefore h0 is rejected, given a sample mean of {sample_mean}\")"
   ],
   "metadata": {
    "collapsed": false,
    "pycharm": {
     "name": "#%%\n"
    }
   }
  },
  {
   "cell_type": "markdown",
   "source": [
    "Finding the confidence interval using the t score given unknown variance with an array"
   ],
   "metadata": {
    "collapsed": false,
    "pycharm": {
     "name": "#%% md\n"
    }
   }
  },
  {
   "cell_type": "code",
   "execution_count": 6,
   "outputs": [
    {
     "name": "stdout",
     "output_type": "stream",
     "text": [
      "With 95.0% confidence, the interval is below 38.69963013892556.\n",
      "With 95.0% confidence, the interval is above 35.867036527741114.\n",
      "With 95.0% confidence, the interval is (35.54756040462653, 39.01910626204015).\n"
     ]
    }
   ],
   "source": [
    "import numpy as np\n",
    "import math\n",
    "from scipy.stats import t\n",
    "\n",
    "#inset the observations in a array\n",
    "sample = [36.1, 40.2, 33.8, 38.5, 42, 35.8, 37, 41, 36.8, 37.2, 33, 36]\n",
    "\n",
    "#Based on the array we calculate the mean\n",
    "sample_mean = np.mean(sample)\n",
    "\n",
    "#Based on the array we calculate the standard deviation\n",
    "sample_std = np.std(sample, ddof=1)\n",
    "\n",
    "#based on the array we calculate the sample size\n",
    "n = len(sample)\n",
    "\n",
    "#insert the procent of confidence needed\n",
    "#standards being 0.1, 0.05, 0.01\n",
    "alpha = 0.05\n",
    "\n",
    "\n",
    "#Based on the array and alpha the t score for two sided is calculated\n",
    "t_score_two = abs(t.ppf(alpha/2, n-1))\n",
    "\n",
    "#Based on the array and alpha the t score for one sided is calculated\n",
    "t_score_one = abs(t.ppf(alpha, n-1))\n",
    "\n",
    "#Then a lower Confidence interval is being calculated\n",
    "CIlower = (sample_mean - t_score_one * sample_std / math.sqrt(n))\n",
    "#Then a upper Confidence interval is being calculated\n",
    "CIupper = (sample_mean + t_score_one * sample_std / math.sqrt(n))\n",
    "\n",
    "#Then to Confidence interval is being calculated\n",
    "CI = (sample_mean - t_score_two * sample_std / math.sqrt(n), sample_mean + t_score_two * sample_std / math.sqrt(n))\n",
    "\n",
    "print(f\"With {(1-alpha)*100}% confidence, the interval is below {CIupper}.\")\n",
    "print(f\"With {(1-alpha)*100}% confidence, the interval is above {CIlower}.\")\n",
    "print(f\"With {(1-alpha)*100}% confidence, the interval is {CI}.\")\n"
   ],
   "metadata": {
    "collapsed": false,
    "pycharm": {
     "name": "#%%\n"
    }
   }
  },
  {
   "cell_type": "code",
   "execution_count": 7,
   "outputs": [
    {
     "name": "stdout",
     "output_type": "stream",
     "text": [
      "With 95.0% confidence, the interval is below 94.75388342628787.\n",
      "With 95.0% confidence, the interval is above 87.04611657371214.\n",
      "With 95.0% confidence, the interval is (86.25936818557655, 95.54063181442346).\n"
     ]
    }
   ],
   "source": [
    "import numpy as np\n",
    "import math\n",
    "from scipy.stats import t\n",
    "\n",
    "#Based on the array we calculate the mean\n",
    "sample_mean = 90.9\n",
    "\n",
    "#Based on the array we calculate the standard deviation\n",
    "sample_std = 12.2\n",
    "\n",
    "#based on the array we calculate the sample size\n",
    "n = 29\n",
    "\n",
    "#insert the procent of confidence needed\n",
    "#standards being 0.1, 0.05, 0.01\n",
    "alpha = 0.05\n",
    "\n",
    "\n",
    "#Based on the array and alpha the t score for two sided is cal  culated\n",
    "t_score_two = abs(t.ppf(alpha/2, n-1))\n",
    "\n",
    "#Based on the array and alpha the t score for one sided is calculated\n",
    "t_score_one = abs(t.ppf(alpha, n-1))\n",
    "\n",
    "#Then a lower Confidence interval is being calculated\n",
    "CIlower = (sample_mean - t_score_one * sample_std / math.sqrt(n))\n",
    "#Then a upper Confidence interval is being calculated\n",
    "CIupper = (sample_mean + t_score_one * sample_std / math.sqrt(n))\n",
    "\n",
    "#Then to Confidence interval is being calculated\n",
    "CI = (sample_mean - t_score_two * sample_std / math.sqrt(n), sample_mean + t_score_two * sample_std / math.sqrt(n))\n",
    "\n",
    "print(f\"With {(1-alpha)*100}% confidence, the interval is below {CIupper}.\")\n",
    "print(f\"With {(1-alpha)*100}% confidence, the interval is above {CIlower}.\")\n",
    "print(f\"With {(1-alpha)*100}% confidence, the interval is {CI}.\")"
   ],
   "metadata": {
    "collapsed": false,
    "pycharm": {
     "name": "#%%\n"
    }
   }
  }
 ],
 "metadata": {
  "kernelspec": {
   "display_name": "Python 3",
   "language": "python",
   "name": "python3"
  },
  "language_info": {
   "codemirror_mode": {
    "name": "ipython",
    "version": 2
   },
   "file_extension": ".py",
   "mimetype": "text/x-python",
   "name": "python",
   "nbconvert_exporter": "python",
   "pygments_lexer": "ipython2",
   "version": "2.7.6"
  }
 },
 "nbformat": 4,
 "nbformat_minor": 0
}